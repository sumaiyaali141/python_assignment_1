{
  "nbformat": 4,
  "nbformat_minor": 0,
  "metadata": {
    "colab": {
      "name": "Untitled1.ipynb",
      "provenance": [],
      "collapsed_sections": [],
      "include_colab_link": true
    },
    "kernelspec": {
      "name": "python3",
      "display_name": "Python 3"
    }
  },
  "cells": [
    {
      "cell_type": "markdown",
      "metadata": {
        "id": "view-in-github",
        "colab_type": "text"
      },
      "source": [
        "<a href=\"https://colab.research.google.com/github/sumaiyaali141/python_assignment_1/blob/master/Untitled1.ipynb\" target=\"_parent\"><img src=\"https://colab.research.google.com/assets/colab-badge.svg\" alt=\"Open In Colab\"/></a>"
      ]
    },
    {
      "cell_type": "code",
      "metadata": {
        "id": "pQ8EC5iynXKN",
        "colab_type": "code",
        "colab": {
          "base_uri": "https://localhost:8080/",
          "height": 139
        },
        "outputId": "213e80b1-3c9d-4399-d7e1-04e291819876"
      },
      "source": [
        "'''Question 1: Write a program which takes 5 inputs from user for different subject's marks, total it and generate mark sheed using grades?'''\n",
        "math=int(input(\"Enter English Marks : \"))\n",
        "english=int(input(\"Enter English Marks : \"))\n",
        "urdu=int(input(\"Enter English Marks : \"))\n",
        "chemistry=int(input(\"Enter English Marks : \"))\n",
        "physics=int(input(\"Enter English Marks : \"))\n",
        "total_marks=math+english+urdu+chemistry+physics\n",
        "print(\"Total Marks: \" + str(total_marks))\n",
        "marks_Percentage=(total_marks/500)*100\n",
        "if(marks_Percentage>80):\n",
        "    print(\"Grade : A\")\n",
        "elif(marks_Percentage>60):\n",
        "    print(\"Grade : B\")\n",
        "elif(marks_Percentage>40):\n",
        "    print(\"Grade : C\")\n",
        "else:\n",
        "    print(\"Fail\")"
      ],
      "execution_count": 1,
      "outputs": [
        {
          "output_type": "stream",
          "text": [
            "Enter English Marks : 89\n",
            "Enter English Marks : 90\n",
            "Enter English Marks : 78\n",
            "Enter English Marks : 34\n",
            "Enter English Marks : 09\n",
            "Total Marks: 300\n",
            "Grade : C\n"
          ],
          "name": "stdout"
        }
      ]
    },
    {
      "cell_type": "code",
      "metadata": {
        "id": "YP_Q2qmCoijI",
        "colab_type": "code",
        "colab": {
          "base_uri": "https://localhost:8080/",
          "height": 52
        },
        "outputId": "79cbd15d-978b-4aaa-9e7d-6e0614aeba85"
      },
      "source": [
        "'''Write a program which take input from user and identigy that the given nubmer is even or odd?'''\n",
        "number=int(input(\"Enter a number : \"))\n",
        "if(number%2==0):\n",
        "    print(\"Even Number\")\n",
        "else:\n",
        "    print(\"Odd Number\")"
      ],
      "execution_count": 2,
      "outputs": [
        {
          "output_type": "stream",
          "text": [
            "Enter a number : 7\n",
            "Odd Number\n"
          ],
          "name": "stdout"
        }
      ]
    },
    {
      "cell_type": "code",
      "metadata": {
        "id": "ork_Hwo4pNTw",
        "colab_type": "code",
        "colab": {
          "base_uri": "https://localhost:8080/",
          "height": 34
        },
        "outputId": "0d834347-5e49-4ac4-c442-0bdf0ddf7ebc"
      },
      "source": [
        "'''Write a program which print the length of the list?'''\n",
        "a=[3,42,23,4321,234,324,34,23,534,234]\n",
        "print(\"Length : \"+str(len(a)))"
      ],
      "execution_count": 4,
      "outputs": [
        {
          "output_type": "stream",
          "text": [
            "Length : 10\n"
          ],
          "name": "stdout"
        }
      ]
    },
    {
      "cell_type": "code",
      "metadata": {
        "id": "6mHyKL8epVpg",
        "colab_type": "code",
        "colab": {
          "base_uri": "https://localhost:8080/",
          "height": 34
        },
        "outputId": "c98182a8-f374-4e43-c3eb-3140fb470643"
      },
      "source": [
        "'''Write a python program to sum all the numeric items in a list?'''\n",
        "list_of_numbers=[7,476672,23776,421,234,324,34,23,534,234]\n",
        "sum=0\n",
        "for f in list_of_numbers:\n",
        "    sum=sum+f\n",
        "print(\"Sum : \"+str(sum))"
      ],
      "execution_count": 10,
      "outputs": [
        {
          "output_type": "stream",
          "text": [
            "Sum : 502259\n"
          ],
          "name": "stdout"
        }
      ]
    },
    {
      "cell_type": "code",
      "metadata": {
        "id": "PMSNa-hTpbTU",
        "colab_type": "code",
        "colab": {
          "base_uri": "https://localhost:8080/",
          "height": 34
        },
        "outputId": "7ae86794-b819-409c-8392-e2cbe4cbce79"
      },
      "source": [
        "'''Write a python program to get the largest number from a numberic list?'''\n",
        "list_of_numbers=[3,42,523,421,234,324,34,273,90534,234]\n",
        "print(\"Maximum number in list : \"+str(max(list_of_numbers)))"
      ],
      "execution_count": 9,
      "outputs": [
        {
          "output_type": "stream",
          "text": [
            "Maximum number in list : 90534\n"
          ],
          "name": "stdout"
        }
      ]
    },
    {
      "cell_type": "code",
      "metadata": {
        "id": "SBfaz3IEpinO",
        "colab_type": "code",
        "colab": {
          "base_uri": "https://localhost:8080/",
          "height": 69
        },
        "outputId": "51065cdb-f5f3-43c2-95e8-c4fb4a78d88e"
      },
      "source": [
        "'''Take a list, say for example this one: a=[1,1,2,3,5,8,13,21,34,55,89] and write a program that prints out all the elements of the list that are less than 5'''\n",
        "a=[1,1,288,3,567,8,183,21,384,5785,8099]\n",
        "for num in a:\n",
        "    if(num<5):\n",
        "        print(\"Number less than 5 : \"+str(num))"
      ],
      "execution_count": 7,
      "outputs": [
        {
          "output_type": "stream",
          "text": [
            "Number less than 5 : 1\n",
            "Number less than 5 : 1\n",
            "Number less than 5 : 3\n"
          ],
          "name": "stdout"
        }
      ]
    },
    {
      "cell_type": "code",
      "metadata": {
        "id": "25xbnXD3p2Wk",
        "colab_type": "code",
        "colab": {}
      },
      "source": [
        ""
      ],
      "execution_count": 0,
      "outputs": []
    }
  ]
}