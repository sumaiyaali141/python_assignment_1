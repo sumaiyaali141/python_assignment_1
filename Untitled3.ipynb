{
  "nbformat": 4,
  "nbformat_minor": 0,
  "metadata": {
    "colab": {
      "name": "Untitled3.ipynb",
      "provenance": [],
      "include_colab_link": true
    },
    "kernelspec": {
      "name": "python3",
      "display_name": "Python 3"
    }
  },
  "cells": [
    {
      "cell_type": "markdown",
      "metadata": {
        "id": "view-in-github",
        "colab_type": "text"
      },
      "source": [
        "<a href=\"https://colab.research.google.com/github/sumaiyaali141/python_assignment_1/blob/master/Untitled3.ipynb\" target=\"_parent\"><img src=\"https://colab.research.google.com/assets/colab-badge.svg\" alt=\"Open In Colab\"/></a>"
      ]
    },
    {
      "cell_type": "code",
      "metadata": {
        "id": "40TjJmu0rZVn",
        "colab_type": "code",
        "colab": {
          "base_uri": "https://localhost:8080/",
          "height": 86
        },
        "outputId": "2eb93dac-2d6e-45a6-c4c7-763ddcee25b0"
      },
      "source": [
        "number1=int(input(\"Enter First Number: \"))\n",
        "number2=int(input(\"Enter Second Number: \"))\n",
        "operator=input(\"Enter Operator: \")\n",
        "if(operator=='+'):\n",
        "    print(\"Sum Result: \"+str(number1+number2))\n",
        "elif(operator=='-'):\n",
        "    print(\"Substraction Result: \"+str(number1-number2))\n",
        "elif(operator=='-'):\n",
        "    print(\"Substract Result: \"+str(number1-number2))\n",
        "elif(operator=='*'):\n",
        "    print(\"Multiply Result: \"+str(number1*number2))\n",
        "elif(operator=='/'):\n",
        "    print(\"Divide Result: \"+str(number1/number2))\n",
        "elif(operator=='**'):\n",
        "    print(\"Power Result: \"+str(number1**number2))\n",
        "else:\n",
        "    print(\"Please Enter Correct Number!\")"
      ],
      "execution_count": 1,
      "outputs": [
        {
          "output_type": "stream",
          "text": [
            "Enter First Number: 23\n",
            "Enter Second Number: 222\n",
            "Enter Operator: /\n",
            "Divide Result: 0.1036036036036036\n"
          ],
          "name": "stdout"
        }
      ]
    },
    {
      "cell_type": "code",
      "metadata": {
        "id": "AGdCGk28sV7Q",
        "colab_type": "code",
        "colab": {
          "base_uri": "https://localhost:8080/",
          "height": 34
        },
        "outputId": "67f0a76d-de79-4369-c5b7-e4d65116547f"
      },
      "source": [
        "def check(list1, val): \n",
        "    return(all(x > val for x in list1))  \n",
        "list1 =[10, 20, 30, 40, 50, 60] \n",
        "val = 5\n",
        "if(check(list1, val)): \n",
        "    print(\"Yes\")\n",
        "else: \n",
        "    print(\"No\")\n",
        "\n"
      ],
      "execution_count": 2,
      "outputs": [
        {
          "output_type": "stream",
          "text": [
            "Yes\n"
          ],
          "name": "stdout"
        }
      ]
    },
    {
      "cell_type": "code",
      "metadata": {
        "id": "9gUN-zQgsZS0",
        "colab_type": "code",
        "colab": {
          "base_uri": "https://localhost:8080/",
          "height": 34
        },
        "outputId": "f19cb433-d3b6-4855-c62c-f0b8edef5341"
      },
      "source": [
        "'''3. Write a Python script to add a key to a dictionary'''\n",
        "\n",
        "dict={'strkey':'strvalue','as':34343,'numkey':32432}\n",
        "dict['addnumkey']=8093\n",
        "dict"
      ],
      "execution_count": 4,
      "outputs": [
        {
          "output_type": "execute_result",
          "data": {
            "text/plain": [
              "{'addnumkey': 8093, 'as': 34343, 'numkey': 32432, 'strkey': 'strvalue'}"
            ]
          },
          "metadata": {
            "tags": []
          },
          "execution_count": 4
        }
      ]
    },
    {
      "cell_type": "code",
      "metadata": {
        "id": "OaEKE-yhs4Be",
        "colab_type": "code",
        "colab": {
          "base_uri": "https://localhost:8080/",
          "height": 34
        },
        "outputId": "e077399d-113b-4286-ec9a-16a116283bbf"
      },
      "source": [
        "'''4. Write a Python program to sum all the numeric items in a dictionary'''\n",
        "\n",
        "testList=[\"sfss\",34,\"3432\",\"sdf\",333,378,234,\"3243wer\"]\n",
        "sum=0\n",
        "for iElement in testList:\n",
        "    if(type(iElement)==int):\n",
        "        sum=sum+iElement\n",
        "print(\"Sum Result: \"+str(sum))"
      ],
      "execution_count": 7,
      "outputs": [
        {
          "output_type": "stream",
          "text": [
            "Sum Result: 979\n"
          ],
          "name": "stdout"
        }
      ]
    },
    {
      "cell_type": "code",
      "metadata": {
        "id": "J34qExNxtEpL",
        "colab_type": "code",
        "colab": {
          "base_uri": "https://localhost:8080/",
          "height": 34
        },
        "outputId": "a4ea8baf-880f-4726-cf60-180e71ce13fd"
      },
      "source": [
        "'''5. Write a program to identify duplicate values from list '''\n",
        "\n",
        "testList=[\"sdf\",34,\"3432\",\"sdf\",333,34,234,\"3243wer\"]\n",
        "set([x for x in testList if testList.count(x)>1])"
      ],
      "execution_count": 8,
      "outputs": [
        {
          "output_type": "execute_result",
          "data": {
            "text/plain": [
              "{34, 'sdf'}"
            ]
          },
          "metadata": {
            "tags": []
          },
          "execution_count": 8
        }
      ]
    },
    {
      "cell_type": "code",
      "metadata": {
        "id": "ErIUINk6tdAa",
        "colab_type": "code",
        "colab": {
          "base_uri": "https://localhost:8080/",
          "height": 86
        },
        "outputId": "80ad606a-3a60-415b-bf06-8f05016c4988"
      },
      "source": [
        "'''6. Write a Python script to check if a given key already exists in a dictionary'''\n",
        "\n",
        "dict={2:34,13:34,45:34,2:34,90:34,3:34,4:34,4:34,3:34,4:34,2:34,}\n",
        "def isKeyPresent(key):\n",
        "    if key in dict:\n",
        "        print(\"Present: \"+str(key))\n",
        "    else:\n",
        "        print(\"Not Present: \"+str(key))\n",
        "isKeyPresent(2)\n",
        "isKeyPresent(344)\n",
        "isKeyPresent(7)\n",
        "isKeyPresent(543)\n"
      ],
      "execution_count": 10,
      "outputs": [
        {
          "output_type": "stream",
          "text": [
            "Present: 2\n",
            "Not Present: 344\n",
            "Not Present: 7\n",
            "Not Present: 543\n"
          ],
          "name": "stdout"
        }
      ]
    }
  ]
}