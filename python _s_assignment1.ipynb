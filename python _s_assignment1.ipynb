{
 "cells": [
  {
   "cell_type": "markdown",
   "metadata": {},
   "source": [
    "# PYTHON ASSIGNMENT NO.1\n"
   ]
  },
  {
   "cell_type": "code",
   "execution_count": 12,
   "metadata": {},
   "outputs": [
    {
     "name": "stdout",
     "output_type": "stream",
     "text": [
      "Twinkle, Twinkle, little star,\n",
      "\tHow I wonder what you are!\n",
      "\t\tUp above the world so high,\n",
      "\t\tLike a diamond in the sky,\n",
      "Twinkle, Twinkle, little star,\n",
      "\tHow I wonder what you are!\n"
     ]
    }
   ],
   "source": [
    "print (\"Twinkle, Twinkle, little star,\" '\\n' \"\\t\"  \"How I wonder what you are!\" '\\n' \"\\t\" \"\\t\"  \"Up above the world so high,\"  \"\\n\"  \"\\t\"  \"\\t\"  \"Like a diamond in the sky,\"'\\n'\"Twinkle, Twinkle, little star,\" '\\n' \"\\t\"  \"How I wonder what you are!\")"
   ]
  },
  {
   "cell_type": "code",
   "execution_count": 13,
   "metadata": {},
   "outputs": [
    {
     "name": "stdout",
     "output_type": "stream",
     "text": [
      "\n",
      "Version of Python installed: \n",
      "3.7.1 (default, Dec 10 2018, 22:54:23) [MSC v.1915 64 bit (AMD64)]\n"
     ]
    }
   ],
   "source": [
    "import sys\n",
    " \n",
    "print(\"\\nVersion of Python installed: \")\n",
    "print(sys.version)\n",
    " "
   ]
  },
  {
   "cell_type": "code",
   "execution_count": 26,
   "metadata": {},
   "outputs": [
    {
     "name": "stdout",
     "output_type": "stream",
     "text": [
      "2019-11-05 16:01:27.886811\n"
     ]
    }
   ],
   "source": [
    "\n",
    "from datetime import datetime\n",
    "\n",
    "T=datetime.now()\n",
    "print( T )\n",
    "\n"
   ]
  },
  {
   "cell_type": "code",
   "execution_count": 4,
   "metadata": {},
   "outputs": [
    {
     "name": "stdout",
     "output_type": "stream",
     "text": [
      "Radius = 4\n",
      "Area =   50\n"
     ]
    }
   ],
   "source": [
    "Radius = float(input(\"Radius = \"))\n",
    "area = round(3.142*Radius**2)\n",
    "print (\"Area =  \" , area)"
   ]
  },
  {
   "cell_type": "code",
   "execution_count": 7,
   "metadata": {},
   "outputs": [
    {
     "name": "stdout",
     "output_type": "stream",
     "text": [
      "USER'S FIRST NAME:SUMAIYA\n",
      "USERS LAST NAME:NADEEM\n",
      "SUMAIYA NADEEM\n"
     ]
    }
   ],
   "source": [
    "_LET = input(\"USER'S FIRST NAME:\");\n",
    "_LET1=input(\"USERS LAST NAME:\");\n",
    "print( _LET + \" \"+ _LET1)\n"
   ]
  },
  {
   "cell_type": "code",
   "execution_count": 12,
   "metadata": {},
   "outputs": [
    {
     "name": "stdout",
     "output_type": "stream",
     "text": [
      "first number:1\n",
      "second number:2\n",
      "3\n"
     ]
    }
   ],
   "source": [
    "NO_1=int (input(\"first number:\"));\n",
    "NO_2=int (input(\"second number:\"));\n",
    "print(NO_1 + NO_2)\n"
   ]
  },
  {
   "cell_type": "code",
   "execution_count": null,
   "metadata": {},
   "outputs": [],
   "source": []
  }
 ],
 "metadata": {
  "kernelspec": {
   "display_name": "Python 3",
   "language": "python",
   "name": "python3"
  },
  "language_info": {
   "codemirror_mode": {
    "name": "ipython",
    "version": 3
   },
   "file_extension": ".py",
   "mimetype": "text/x-python",
   "name": "python",
   "nbconvert_exporter": "python",
   "pygments_lexer": "ipython3",
   "version": "3.7.1"
  }
 },
 "nbformat": 4,
 "nbformat_minor": 2
}
